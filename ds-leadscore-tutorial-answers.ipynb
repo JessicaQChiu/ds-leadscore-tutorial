{
 "cells": [
  {
   "cell_type": "markdown",
   "metadata": {},
   "source": [
    " # Data Science 101 - Lead Scoring Scenario"
   ]
  },
  {
   "cell_type": "markdown",
   "metadata": {},
   "source": [
    "## Part 1: Problem\n",
    "\n",
    "Today we are going to look at a very common data science problem found in e-commerce and web based software or services (like Xero!). **Lead scoring!**\n",
    "\n",
    "### The Sales Process\n",
    "\n",
    "An education company named X Education sells online courses to industry professionals. On any given day, many professionals who are interested in the courses land on their website and browse for courses.\n",
    "\n",
    "1. Individuals land on the website, they might browse the courses, watch some videos and if they are interested they will fill up a form for the course. \n",
    "\n",
    "1. Once individuals fill out a form, they have now become a potential customer or **lead**\n",
    "\n",
    "1. Employees from the sales team will contact leads by emailing or calling them with the goal of getting the lead to sign up for the course - called a **conversion** \n",
    "\n",
    "We will be using a consulting model called \"SCQA\" to help break down the problem.\n",
    "\n",
    "### Situation\n",
    "\n",
    "- Currently only 38% of leads contacted go on to become a paying customer. \n",
    "- The CEO wants to grow the customer base by 20% over the next year \n",
    "\n",
    "### Complication \n",
    "\n",
    "- The head of the sales & advertising department has marketing budget to increase advertising and generate 20% more leads, but does not have the headcount to contact every lead already, so more leads would not necessarily mean more conversions\n",
    "- The department head knows that a conversion rate of 38% means a lot of time and money is wasted on customers who never intended to sign up. \n",
    "\n",
    "### Question\n",
    "\n",
    "- How can data science help to convert more leads with the same or less amount of calls?\n",
    "\n",
    "### Answer \n",
    "\n",
    "- A lead scoring model trained on historical conversion data could help us to prioritise leads and form a better queue to call from 'hottest' lead to 'coldest'\n",
    "\n",
    "Your idea for a lead scoring model gets approved - now you need to look at the data you and decide what model you are going to build!"
   ]
  },
  {
   "cell_type": "markdown",
   "metadata": {},
   "source": [
    "## Part 2: Tools\n",
    "\n",
    "Today we are going to be using a few different tools in our lead scoring scenario:\n",
    "\n",
    "### Python"
   ]
  },
  {
   "cell_type": "code",
   "execution_count": 1,
   "metadata": {},
   "outputs": [
    {
     "name": "stdout",
     "output_type": "stream",
     "text": [
      "[1, 2, 3, 4, 5]\n"
     ]
    }
   ],
   "source": [
    "# some basic python commands \n",
    "\n",
    "# create an array\n",
    "x = [1, 2, 3, 4, 5]\n",
    "\n",
    "print(x)"
   ]
  },
  {
   "cell_type": "code",
   "execution_count": 2,
   "metadata": {},
   "outputs": [
    {
     "data": {
      "text/plain": [
       "1"
      ]
     },
     "execution_count": 2,
     "metadata": {},
     "output_type": "execute_result"
    }
   ],
   "source": [
    "min(x)"
   ]
  },
  {
   "cell_type": "code",
   "execution_count": 3,
   "metadata": {},
   "outputs": [
    {
     "data": {
      "text/plain": [
       "5"
      ]
     },
     "execution_count": 3,
     "metadata": {},
     "output_type": "execute_result"
    }
   ],
   "source": [
    "max(x)"
   ]
  },
  {
   "cell_type": "markdown",
   "metadata": {},
   "source": [
    "`min`, `max` and `print` are what we call **functions**. These are preprogrammed commands to do common calculations on manipulations. "
   ]
  },
  {
   "cell_type": "markdown",
   "metadata": {},
   "source": [
    "### Jupyter Notebook in Google Colab\n",
    "\n",
    "Jupyter notebook contains **cells** to run each bit of code at a time \n",
    "\n",
    "You can run a cell by using `ctrl` + `enter` \n",
    "\n",
    "Or because we are hosting the notebook in Google Colab you can click the `play` button at the top of the cell"
   ]
  },
  {
   "cell_type": "markdown",
   "metadata": {},
   "source": [
    "You can add a new text or code cell using the buttons at the top of the notebook"
   ]
  },
  {
   "cell_type": "markdown",
   "metadata": {},
   "source": [
    "### Importing packages\n",
    "\n",
    "To do data science we need to add a bit more functionality than is available in the base python code. \n",
    "\n",
    "We do this by importing packages that have extra functions for data analysis, statistics and machine learning.\n",
    "\n",
    "The data scientists tool kit generally includes the following packages: "
   ]
  },
  {
   "cell_type": "code",
   "execution_count": 4,
   "metadata": {},
   "outputs": [],
   "source": [
    "# package for multi-dimensional arrays and matrices\n",
    "import numpy as np\n",
    "\n",
    "# package for data manipulation and analysis\n",
    "import pandas as pd\n",
    "\n",
    "# packages for creating plots and graphs \n",
    "import matplotlib.pyplot as plt\n",
    "import seaborn as sns\n",
    "\n",
    "# visulaisation\n",
    "from matplotlib.pyplot import xticks\n",
    "%matplotlib inline\n",
    "\n",
    "# ignoring any warnings for this tutorial and you should absolutely ignore warnings forever wait I mean\n",
    "import warnings\n",
    "warnings.filterwarnings(\"ignore\")"
   ]
  },
  {
   "cell_type": "markdown",
   "metadata": {},
   "source": [
    "We use the `import` function to load the extra functions into our python session.\n",
    "\n",
    "The `as` just shortens the path name of the function so we can call `pd.function_name()` instead of `pandas.function_name()`"
   ]
  },
  {
   "cell_type": "markdown",
   "metadata": {},
   "source": [
    "## Part 3: Load Data\n",
    "\n",
    "We use functions from the `pandas` package to load in our data from a csv. Then it's important to check that we have loaded the data correctly! \n",
    "\n",
    "Because the datasets are normally too large to parse all at once we can't just browse it like a spreadsheet. We use functions instead to browse the data, looking at the number of records and the content stored in each column. \n",
    "\n",
    "It's also very useful to look at the type of data in each column and check for any duplicates or missing/Null values. Doing this up front will save us headaches later. "
   ]
  },
  {
   "cell_type": "code",
   "execution_count": 5,
   "metadata": {},
   "outputs": [],
   "source": [
    "# read in the data into a pandas dataframe\n",
    "leads_df = pd.read_csv('https://raw.githubusercontent.com/hjamau/ds-leadscore-tutorial/master/Leads.csv')"
   ]
  },
  {
   "cell_type": "code",
   "execution_count": 6,
   "metadata": {},
   "outputs": [
    {
     "data": {
      "text/plain": [
       "pandas.core.frame.DataFrame"
      ]
     },
     "execution_count": 6,
     "metadata": {},
     "output_type": "execute_result"
    }
   ],
   "source": [
    "# class of the object\n",
    "type(leads_df)"
   ]
  },
  {
   "cell_type": "code",
   "execution_count": 7,
   "metadata": {},
   "outputs": [
    {
     "data": {
      "text/plain": [
       "(9240, 9)"
      ]
     },
     "execution_count": 7,
     "metadata": {},
     "output_type": "execute_result"
    }
   ],
   "source": [
    "# how many rows and columns \n",
    "leads_df.shape"
   ]
  },
  {
   "cell_type": "code",
   "execution_count": 8,
   "metadata": {},
   "outputs": [
    {
     "data": {
      "text/html": [
       "<div>\n",
       "<style scoped>\n",
       "    .dataframe tbody tr th:only-of-type {\n",
       "        vertical-align: middle;\n",
       "    }\n",
       "\n",
       "    .dataframe tbody tr th {\n",
       "        vertical-align: top;\n",
       "    }\n",
       "\n",
       "    .dataframe thead th {\n",
       "        text-align: right;\n",
       "    }\n",
       "</style>\n",
       "<table border=\"1\" class=\"dataframe\">\n",
       "  <thead>\n",
       "    <tr style=\"text-align: right;\">\n",
       "      <th></th>\n",
       "      <th>ProspectID</th>\n",
       "      <th>LeadOrigin</th>\n",
       "      <th>LeadSource</th>\n",
       "      <th>TotalVisits</th>\n",
       "      <th>TotalTime</th>\n",
       "      <th>PageViews</th>\n",
       "      <th>Specialization</th>\n",
       "      <th>Occupation</th>\n",
       "      <th>Converted</th>\n",
       "    </tr>\n",
       "  </thead>\n",
       "  <tbody>\n",
       "    <tr>\n",
       "      <th>0</th>\n",
       "      <td>55e52c85-acf4-4e5d-bd01-d11b9149285a</td>\n",
       "      <td>Landing Page Submission</td>\n",
       "      <td>bing</td>\n",
       "      <td>3</td>\n",
       "      <td>138</td>\n",
       "      <td>3.0</td>\n",
       "      <td>Operations Management</td>\n",
       "      <td>Unemployed</td>\n",
       "      <td>0</td>\n",
       "    </tr>\n",
       "    <tr>\n",
       "      <th>1</th>\n",
       "      <td>35a60e02-0d64-431a-9b28-c3167a382503</td>\n",
       "      <td>Landing Page Submission</td>\n",
       "      <td>bing</td>\n",
       "      <td>3</td>\n",
       "      <td>399</td>\n",
       "      <td>3.0</td>\n",
       "      <td>Media and Advertising</td>\n",
       "      <td>Unemployed</td>\n",
       "      <td>1</td>\n",
       "    </tr>\n",
       "    <tr>\n",
       "      <th>2</th>\n",
       "      <td>f4d1d5db-58fb-4615-83ed-e7e67bee9a87</td>\n",
       "      <td>API</td>\n",
       "      <td>bing</td>\n",
       "      <td>2</td>\n",
       "      <td>88</td>\n",
       "      <td>1.0</td>\n",
       "      <td>Select</td>\n",
       "      <td>Unemployed</td>\n",
       "      <td>0</td>\n",
       "    </tr>\n",
       "    <tr>\n",
       "      <th>3</th>\n",
       "      <td>323869bb-fc3a-4733-bdd3-ab0dda36c0a4</td>\n",
       "      <td>API</td>\n",
       "      <td>bing</td>\n",
       "      <td>1</td>\n",
       "      <td>153</td>\n",
       "      <td>1.0</td>\n",
       "      <td>NaN</td>\n",
       "      <td>Other</td>\n",
       "      <td>0</td>\n",
       "    </tr>\n",
       "    <tr>\n",
       "      <th>4</th>\n",
       "      <td>c6ad51b0-8593-4cb3-88e3-f07965f655ad</td>\n",
       "      <td>API</td>\n",
       "      <td>bing</td>\n",
       "      <td>1</td>\n",
       "      <td>458</td>\n",
       "      <td>1.0</td>\n",
       "      <td>NaN</td>\n",
       "      <td>Other</td>\n",
       "      <td>0</td>\n",
       "    </tr>\n",
       "    <tr>\n",
       "      <th>5</th>\n",
       "      <td>58afb3e7-62f2-444b-b2e4-afba0d546964</td>\n",
       "      <td>API</td>\n",
       "      <td>bing</td>\n",
       "      <td>3</td>\n",
       "      <td>358</td>\n",
       "      <td>3.0</td>\n",
       "      <td>NaN</td>\n",
       "      <td>Other</td>\n",
       "      <td>0</td>\n",
       "    </tr>\n",
       "    <tr>\n",
       "      <th>6</th>\n",
       "      <td>ca1bf6bc-2fcf-4779-bdbe-cbf6f3f4c5e4</td>\n",
       "      <td>Landing Page Submission</td>\n",
       "      <td>bing</td>\n",
       "      <td>4</td>\n",
       "      <td>677</td>\n",
       "      <td>4.0</td>\n",
       "      <td>Business Administration</td>\n",
       "      <td>Other</td>\n",
       "      <td>0</td>\n",
       "    </tr>\n",
       "    <tr>\n",
       "      <th>7</th>\n",
       "      <td>984edf60-b0d6-4909-afe5-201ace5ef839</td>\n",
       "      <td>Lead Add Form</td>\n",
       "      <td>bing</td>\n",
       "      <td>15</td>\n",
       "      <td>1108</td>\n",
       "      <td>3.0</td>\n",
       "      <td>Human Resource Management</td>\n",
       "      <td>Unemployed</td>\n",
       "      <td>1</td>\n",
       "    </tr>\n",
       "    <tr>\n",
       "      <th>8</th>\n",
       "      <td>ac728b18-04da-4c04-bc89-a3b568d4a40b</td>\n",
       "      <td>Lead Add Form</td>\n",
       "      <td>bing</td>\n",
       "      <td>0</td>\n",
       "      <td>0</td>\n",
       "      <td>0.0</td>\n",
       "      <td>Finance Management</td>\n",
       "      <td>Unemployed</td>\n",
       "      <td>1</td>\n",
       "    </tr>\n",
       "    <tr>\n",
       "      <th>9</th>\n",
       "      <td>552b1b02-61c1-4827-ada5-7c8ead795713</td>\n",
       "      <td>Lead Add Form</td>\n",
       "      <td>bing</td>\n",
       "      <td>2</td>\n",
       "      <td>928</td>\n",
       "      <td>2.0</td>\n",
       "      <td>Human Resource Management</td>\n",
       "      <td>Unemployed</td>\n",
       "      <td>1</td>\n",
       "    </tr>\n",
       "  </tbody>\n",
       "</table>\n",
       "</div>"
      ],
      "text/plain": [
       "                             ProspectID               LeadOrigin LeadSource  \\\n",
       "0  55e52c85-acf4-4e5d-bd01-d11b9149285a  Landing Page Submission       bing   \n",
       "1  35a60e02-0d64-431a-9b28-c3167a382503  Landing Page Submission       bing   \n",
       "2  f4d1d5db-58fb-4615-83ed-e7e67bee9a87                      API       bing   \n",
       "3  323869bb-fc3a-4733-bdd3-ab0dda36c0a4                      API       bing   \n",
       "4  c6ad51b0-8593-4cb3-88e3-f07965f655ad                      API       bing   \n",
       "5  58afb3e7-62f2-444b-b2e4-afba0d546964                      API       bing   \n",
       "6  ca1bf6bc-2fcf-4779-bdbe-cbf6f3f4c5e4  Landing Page Submission       bing   \n",
       "7  984edf60-b0d6-4909-afe5-201ace5ef839            Lead Add Form       bing   \n",
       "8  ac728b18-04da-4c04-bc89-a3b568d4a40b            Lead Add Form       bing   \n",
       "9  552b1b02-61c1-4827-ada5-7c8ead795713            Lead Add Form       bing   \n",
       "\n",
       "   TotalVisits  TotalTime  PageViews             Specialization  Occupation  \\\n",
       "0            3        138        3.0      Operations Management  Unemployed   \n",
       "1            3        399        3.0      Media and Advertising  Unemployed   \n",
       "2            2         88        1.0                     Select  Unemployed   \n",
       "3            1        153        1.0                        NaN       Other   \n",
       "4            1        458        1.0                        NaN       Other   \n",
       "5            3        358        3.0                        NaN       Other   \n",
       "6            4        677        4.0    Business Administration       Other   \n",
       "7           15       1108        3.0  Human Resource Management  Unemployed   \n",
       "8            0          0        0.0         Finance Management  Unemployed   \n",
       "9            2        928        2.0  Human Resource Management  Unemployed   \n",
       "\n",
       "   Converted  \n",
       "0          0  \n",
       "1          1  \n",
       "2          0  \n",
       "3          0  \n",
       "4          0  \n",
       "5          0  \n",
       "6          0  \n",
       "7          1  \n",
       "8          1  \n",
       "9          1  "
      ]
     },
     "execution_count": 8,
     "metadata": {},
     "output_type": "execute_result"
    }
   ],
   "source": [
    "# top 10 rows of the dataframe head()\n",
    "leads_df.head(10)"
   ]
  },
  {
   "cell_type": "code",
   "execution_count": 9,
   "metadata": {},
   "outputs": [
    {
     "data": {
      "text/html": [
       "<div>\n",
       "<style scoped>\n",
       "    .dataframe tbody tr th:only-of-type {\n",
       "        vertical-align: middle;\n",
       "    }\n",
       "\n",
       "    .dataframe tbody tr th {\n",
       "        vertical-align: top;\n",
       "    }\n",
       "\n",
       "    .dataframe thead th {\n",
       "        text-align: right;\n",
       "    }\n",
       "</style>\n",
       "<table border=\"1\" class=\"dataframe\">\n",
       "  <thead>\n",
       "    <tr style=\"text-align: right;\">\n",
       "      <th></th>\n",
       "      <th>ProspectID</th>\n",
       "      <th>LeadOrigin</th>\n",
       "      <th>LeadSource</th>\n",
       "      <th>TotalVisits</th>\n",
       "      <th>TotalTime</th>\n",
       "      <th>PageViews</th>\n",
       "      <th>Specialization</th>\n",
       "      <th>Occupation</th>\n",
       "      <th>Converted</th>\n",
       "    </tr>\n",
       "  </thead>\n",
       "  <tbody>\n",
       "    <tr>\n",
       "      <th>9235</th>\n",
       "      <td>6a897250-f3b2-41a7-8b5f-69410282a775</td>\n",
       "      <td>Lead Add Form</td>\n",
       "      <td>Youtube Channel</td>\n",
       "      <td>0</td>\n",
       "      <td>0</td>\n",
       "      <td>0.0</td>\n",
       "      <td>Select</td>\n",
       "      <td>Unemployed</td>\n",
       "      <td>1</td>\n",
       "    </tr>\n",
       "    <tr>\n",
       "      <th>9236</th>\n",
       "      <td>b787c1d6-9cbc-4c09-a83a-866b09885d07</td>\n",
       "      <td>Lead Add Form</td>\n",
       "      <td>Youtube Channel</td>\n",
       "      <td>0</td>\n",
       "      <td>0</td>\n",
       "      <td>0.0</td>\n",
       "      <td>Select</td>\n",
       "      <td>Unemployed</td>\n",
       "      <td>1</td>\n",
       "    </tr>\n",
       "    <tr>\n",
       "      <th>9237</th>\n",
       "      <td>fa959683-971e-44b9-8cb9-5e18adfc363f</td>\n",
       "      <td>Lead Add Form</td>\n",
       "      <td>Youtube Channel</td>\n",
       "      <td>0</td>\n",
       "      <td>0</td>\n",
       "      <td>0.0</td>\n",
       "      <td>Select</td>\n",
       "      <td>Unemployed</td>\n",
       "      <td>1</td>\n",
       "    </tr>\n",
       "    <tr>\n",
       "      <th>9238</th>\n",
       "      <td>8c3609e8-f485-4339-87d5-1d62edf0977a</td>\n",
       "      <td>Lead Add Form</td>\n",
       "      <td>Youtube Channel</td>\n",
       "      <td>0</td>\n",
       "      <td>0</td>\n",
       "      <td>0.0</td>\n",
       "      <td>Select</td>\n",
       "      <td>Unemployed</td>\n",
       "      <td>1</td>\n",
       "    </tr>\n",
       "    <tr>\n",
       "      <th>9239</th>\n",
       "      <td>47de98bb-95a3-4393-bdd3-3d80d6b67e37</td>\n",
       "      <td>Landing Page Submission</td>\n",
       "      <td>Youtube Channel</td>\n",
       "      <td>4</td>\n",
       "      <td>487</td>\n",
       "      <td>2.0</td>\n",
       "      <td>Business Administration</td>\n",
       "      <td>Other</td>\n",
       "      <td>0</td>\n",
       "    </tr>\n",
       "  </tbody>\n",
       "</table>\n",
       "</div>"
      ],
      "text/plain": [
       "                                ProspectID               LeadOrigin  \\\n",
       "9235  6a897250-f3b2-41a7-8b5f-69410282a775            Lead Add Form   \n",
       "9236  b787c1d6-9cbc-4c09-a83a-866b09885d07            Lead Add Form   \n",
       "9237  fa959683-971e-44b9-8cb9-5e18adfc363f            Lead Add Form   \n",
       "9238  8c3609e8-f485-4339-87d5-1d62edf0977a            Lead Add Form   \n",
       "9239  47de98bb-95a3-4393-bdd3-3d80d6b67e37  Landing Page Submission   \n",
       "\n",
       "           LeadSource  TotalVisits  TotalTime  PageViews  \\\n",
       "9235  Youtube Channel            0          0        0.0   \n",
       "9236  Youtube Channel            0          0        0.0   \n",
       "9237  Youtube Channel            0          0        0.0   \n",
       "9238  Youtube Channel            0          0        0.0   \n",
       "9239  Youtube Channel            4        487        2.0   \n",
       "\n",
       "               Specialization  Occupation  Converted  \n",
       "9235                   Select  Unemployed          1  \n",
       "9236                   Select  Unemployed          1  \n",
       "9237                   Select  Unemployed          1  \n",
       "9238                   Select  Unemployed          1  \n",
       "9239  Business Administration       Other          0  "
      ]
     },
     "execution_count": 9,
     "metadata": {},
     "output_type": "execute_result"
    }
   ],
   "source": [
    "# bottom 5 rows of the dataframe - tail()\n",
    "leads_df.tail(5)"
   ]
  },
  {
   "cell_type": "code",
   "execution_count": 10,
   "metadata": {},
   "outputs": [
    {
     "data": {
      "text/html": [
       "<div>\n",
       "<style scoped>\n",
       "    .dataframe tbody tr th:only-of-type {\n",
       "        vertical-align: middle;\n",
       "    }\n",
       "\n",
       "    .dataframe tbody tr th {\n",
       "        vertical-align: top;\n",
       "    }\n",
       "\n",
       "    .dataframe thead th {\n",
       "        text-align: right;\n",
       "    }\n",
       "</style>\n",
       "<table border=\"1\" class=\"dataframe\">\n",
       "  <thead>\n",
       "    <tr style=\"text-align: right;\">\n",
       "      <th></th>\n",
       "      <th>TotalVisits</th>\n",
       "      <th>TotalTime</th>\n",
       "      <th>PageViews</th>\n",
       "      <th>Converted</th>\n",
       "    </tr>\n",
       "  </thead>\n",
       "  <tbody>\n",
       "    <tr>\n",
       "      <th>count</th>\n",
       "      <td>9240.000000</td>\n",
       "      <td>9240.000000</td>\n",
       "      <td>9240.000000</td>\n",
       "      <td>9240.000000</td>\n",
       "    </tr>\n",
       "    <tr>\n",
       "      <th>mean</th>\n",
       "      <td>3.394156</td>\n",
       "      <td>487.698268</td>\n",
       "      <td>2.327787</td>\n",
       "      <td>0.385390</td>\n",
       "    </tr>\n",
       "    <tr>\n",
       "      <th>std</th>\n",
       "      <td>4.836682</td>\n",
       "      <td>548.021466</td>\n",
       "      <td>2.164258</td>\n",
       "      <td>0.486714</td>\n",
       "    </tr>\n",
       "    <tr>\n",
       "      <th>min</th>\n",
       "      <td>0.000000</td>\n",
       "      <td>0.000000</td>\n",
       "      <td>0.000000</td>\n",
       "      <td>0.000000</td>\n",
       "    </tr>\n",
       "    <tr>\n",
       "      <th>25%</th>\n",
       "      <td>0.000000</td>\n",
       "      <td>12.000000</td>\n",
       "      <td>0.000000</td>\n",
       "      <td>0.000000</td>\n",
       "    </tr>\n",
       "    <tr>\n",
       "      <th>50%</th>\n",
       "      <td>3.000000</td>\n",
       "      <td>248.000000</td>\n",
       "      <td>2.000000</td>\n",
       "      <td>0.000000</td>\n",
       "    </tr>\n",
       "    <tr>\n",
       "      <th>75%</th>\n",
       "      <td>5.000000</td>\n",
       "      <td>936.000000</td>\n",
       "      <td>3.000000</td>\n",
       "      <td>1.000000</td>\n",
       "    </tr>\n",
       "    <tr>\n",
       "      <th>max</th>\n",
       "      <td>251.000000</td>\n",
       "      <td>2272.000000</td>\n",
       "      <td>55.000000</td>\n",
       "      <td>1.000000</td>\n",
       "    </tr>\n",
       "  </tbody>\n",
       "</table>\n",
       "</div>"
      ],
      "text/plain": [
       "       TotalVisits    TotalTime    PageViews    Converted\n",
       "count  9240.000000  9240.000000  9240.000000  9240.000000\n",
       "mean      3.394156   487.698268     2.327787     0.385390\n",
       "std       4.836682   548.021466     2.164258     0.486714\n",
       "min       0.000000     0.000000     0.000000     0.000000\n",
       "25%       0.000000    12.000000     0.000000     0.000000\n",
       "50%       3.000000   248.000000     2.000000     0.000000\n",
       "75%       5.000000   936.000000     3.000000     1.000000\n",
       "max     251.000000  2272.000000    55.000000     1.000000"
      ]
     },
     "execution_count": 10,
     "metadata": {},
     "output_type": "execute_result"
    }
   ],
   "source": [
    "# describe \n",
    "leads_df.describe()"
   ]
  },
  {
   "cell_type": "code",
   "execution_count": 11,
   "metadata": {},
   "outputs": [
    {
     "data": {
      "text/html": [
       "<div>\n",
       "<style scoped>\n",
       "    .dataframe tbody tr th:only-of-type {\n",
       "        vertical-align: middle;\n",
       "    }\n",
       "\n",
       "    .dataframe tbody tr th {\n",
       "        vertical-align: top;\n",
       "    }\n",
       "\n",
       "    .dataframe thead th {\n",
       "        text-align: right;\n",
       "    }\n",
       "</style>\n",
       "<table border=\"1\" class=\"dataframe\">\n",
       "  <thead>\n",
       "    <tr style=\"text-align: right;\">\n",
       "      <th></th>\n",
       "      <th>ProspectID</th>\n",
       "      <th>LeadOrigin</th>\n",
       "      <th>LeadSource</th>\n",
       "      <th>TotalVisits</th>\n",
       "      <th>TotalTime</th>\n",
       "      <th>PageViews</th>\n",
       "      <th>Specialization</th>\n",
       "      <th>Occupation</th>\n",
       "      <th>Converted</th>\n",
       "    </tr>\n",
       "  </thead>\n",
       "  <tbody>\n",
       "    <tr>\n",
       "      <th>count</th>\n",
       "      <td>9240</td>\n",
       "      <td>9240</td>\n",
       "      <td>9240</td>\n",
       "      <td>9240.000000</td>\n",
       "      <td>9240.000000</td>\n",
       "      <td>9240.000000</td>\n",
       "      <td>7802</td>\n",
       "      <td>9240</td>\n",
       "      <td>9240.000000</td>\n",
       "    </tr>\n",
       "    <tr>\n",
       "      <th>unique</th>\n",
       "      <td>9240</td>\n",
       "      <td>5</td>\n",
       "      <td>11</td>\n",
       "      <td>NaN</td>\n",
       "      <td>NaN</td>\n",
       "      <td>NaN</td>\n",
       "      <td>19</td>\n",
       "      <td>4</td>\n",
       "      <td>NaN</td>\n",
       "    </tr>\n",
       "    <tr>\n",
       "      <th>top</th>\n",
       "      <td>3a1245fe-808a-43c1-8e03-647a8751df03</td>\n",
       "      <td>Landing Page Submission</td>\n",
       "      <td>Google</td>\n",
       "      <td>NaN</td>\n",
       "      <td>NaN</td>\n",
       "      <td>NaN</td>\n",
       "      <td>Select</td>\n",
       "      <td>Unemployed</td>\n",
       "      <td>NaN</td>\n",
       "    </tr>\n",
       "    <tr>\n",
       "      <th>freq</th>\n",
       "      <td>1</td>\n",
       "      <td>4886</td>\n",
       "      <td>2869</td>\n",
       "      <td>NaN</td>\n",
       "      <td>NaN</td>\n",
       "      <td>NaN</td>\n",
       "      <td>1942</td>\n",
       "      <td>5610</td>\n",
       "      <td>NaN</td>\n",
       "    </tr>\n",
       "    <tr>\n",
       "      <th>mean</th>\n",
       "      <td>NaN</td>\n",
       "      <td>NaN</td>\n",
       "      <td>NaN</td>\n",
       "      <td>3.394156</td>\n",
       "      <td>487.698268</td>\n",
       "      <td>2.327787</td>\n",
       "      <td>NaN</td>\n",
       "      <td>NaN</td>\n",
       "      <td>0.385390</td>\n",
       "    </tr>\n",
       "    <tr>\n",
       "      <th>std</th>\n",
       "      <td>NaN</td>\n",
       "      <td>NaN</td>\n",
       "      <td>NaN</td>\n",
       "      <td>4.836682</td>\n",
       "      <td>548.021466</td>\n",
       "      <td>2.164258</td>\n",
       "      <td>NaN</td>\n",
       "      <td>NaN</td>\n",
       "      <td>0.486714</td>\n",
       "    </tr>\n",
       "    <tr>\n",
       "      <th>min</th>\n",
       "      <td>NaN</td>\n",
       "      <td>NaN</td>\n",
       "      <td>NaN</td>\n",
       "      <td>0.000000</td>\n",
       "      <td>0.000000</td>\n",
       "      <td>0.000000</td>\n",
       "      <td>NaN</td>\n",
       "      <td>NaN</td>\n",
       "      <td>0.000000</td>\n",
       "    </tr>\n",
       "    <tr>\n",
       "      <th>25%</th>\n",
       "      <td>NaN</td>\n",
       "      <td>NaN</td>\n",
       "      <td>NaN</td>\n",
       "      <td>0.000000</td>\n",
       "      <td>12.000000</td>\n",
       "      <td>0.000000</td>\n",
       "      <td>NaN</td>\n",
       "      <td>NaN</td>\n",
       "      <td>0.000000</td>\n",
       "    </tr>\n",
       "    <tr>\n",
       "      <th>50%</th>\n",
       "      <td>NaN</td>\n",
       "      <td>NaN</td>\n",
       "      <td>NaN</td>\n",
       "      <td>3.000000</td>\n",
       "      <td>248.000000</td>\n",
       "      <td>2.000000</td>\n",
       "      <td>NaN</td>\n",
       "      <td>NaN</td>\n",
       "      <td>0.000000</td>\n",
       "    </tr>\n",
       "    <tr>\n",
       "      <th>75%</th>\n",
       "      <td>NaN</td>\n",
       "      <td>NaN</td>\n",
       "      <td>NaN</td>\n",
       "      <td>5.000000</td>\n",
       "      <td>936.000000</td>\n",
       "      <td>3.000000</td>\n",
       "      <td>NaN</td>\n",
       "      <td>NaN</td>\n",
       "      <td>1.000000</td>\n",
       "    </tr>\n",
       "    <tr>\n",
       "      <th>max</th>\n",
       "      <td>NaN</td>\n",
       "      <td>NaN</td>\n",
       "      <td>NaN</td>\n",
       "      <td>251.000000</td>\n",
       "      <td>2272.000000</td>\n",
       "      <td>55.000000</td>\n",
       "      <td>NaN</td>\n",
       "      <td>NaN</td>\n",
       "      <td>1.000000</td>\n",
       "    </tr>\n",
       "  </tbody>\n",
       "</table>\n",
       "</div>"
      ],
      "text/plain": [
       "                                  ProspectID               LeadOrigin  \\\n",
       "count                                   9240                     9240   \n",
       "unique                                  9240                        5   \n",
       "top     3a1245fe-808a-43c1-8e03-647a8751df03  Landing Page Submission   \n",
       "freq                                       1                     4886   \n",
       "mean                                     NaN                      NaN   \n",
       "std                                      NaN                      NaN   \n",
       "min                                      NaN                      NaN   \n",
       "25%                                      NaN                      NaN   \n",
       "50%                                      NaN                      NaN   \n",
       "75%                                      NaN                      NaN   \n",
       "max                                      NaN                      NaN   \n",
       "\n",
       "       LeadSource  TotalVisits    TotalTime    PageViews Specialization  \\\n",
       "count        9240  9240.000000  9240.000000  9240.000000           7802   \n",
       "unique         11          NaN          NaN          NaN             19   \n",
       "top        Google          NaN          NaN          NaN         Select   \n",
       "freq         2869          NaN          NaN          NaN           1942   \n",
       "mean          NaN     3.394156   487.698268     2.327787            NaN   \n",
       "std           NaN     4.836682   548.021466     2.164258            NaN   \n",
       "min           NaN     0.000000     0.000000     0.000000            NaN   \n",
       "25%           NaN     0.000000    12.000000     0.000000            NaN   \n",
       "50%           NaN     3.000000   248.000000     2.000000            NaN   \n",
       "75%           NaN     5.000000   936.000000     3.000000            NaN   \n",
       "max           NaN   251.000000  2272.000000    55.000000            NaN   \n",
       "\n",
       "        Occupation    Converted  \n",
       "count         9240  9240.000000  \n",
       "unique           4          NaN  \n",
       "top     Unemployed          NaN  \n",
       "freq          5610          NaN  \n",
       "mean           NaN     0.385390  \n",
       "std            NaN     0.486714  \n",
       "min            NaN     0.000000  \n",
       "25%            NaN     0.000000  \n",
       "50%            NaN     0.000000  \n",
       "75%            NaN     1.000000  \n",
       "max            NaN     1.000000  "
      ]
     },
     "execution_count": 11,
     "metadata": {},
     "output_type": "execute_result"
    }
   ],
   "source": [
    "leads_df.describe(include = 'all')"
   ]
  },
  {
   "cell_type": "code",
   "execution_count": 12,
   "metadata": {},
   "outputs": [
    {
     "data": {
      "text/plain": [
       "Index(['ProspectID', 'LeadOrigin', 'LeadSource', 'TotalVisits', 'TotalTime',\n",
       "       'PageViews', 'Specialization', 'Occupation', 'Converted'],\n",
       "      dtype='object')"
      ]
     },
     "execution_count": 12,
     "metadata": {},
     "output_type": "execute_result"
    }
   ],
   "source": [
    "# column names\n",
    "leads_df.columns"
   ]
  },
  {
   "cell_type": "code",
   "execution_count": 13,
   "metadata": {},
   "outputs": [
    {
     "data": {
      "text/plain": [
       "0         Operations Management\n",
       "1         Media and Advertising\n",
       "2                        Select\n",
       "3                           NaN\n",
       "4                           NaN\n",
       "                 ...           \n",
       "9235                     Select\n",
       "9236                     Select\n",
       "9237                     Select\n",
       "9238                     Select\n",
       "9239    Business Administration\n",
       "Name: Specialization, Length: 9240, dtype: object"
      ]
     },
     "execution_count": 13,
     "metadata": {},
     "output_type": "execute_result"
    }
   ],
   "source": [
    "# selecting columns\n",
    "leads_df.Specialization"
   ]
  },
  {
   "cell_type": "code",
   "execution_count": 14,
   "metadata": {},
   "outputs": [
    {
     "data": {
      "text/plain": [
       "0         Operations Management\n",
       "1         Media and Advertising\n",
       "2                        Select\n",
       "3                           NaN\n",
       "4                           NaN\n",
       "                 ...           \n",
       "9235                     Select\n",
       "9236                     Select\n",
       "9237                     Select\n",
       "9238                     Select\n",
       "9239    Business Administration\n",
       "Name: Specialization, Length: 9240, dtype: object"
      ]
     },
     "execution_count": 14,
     "metadata": {},
     "output_type": "execute_result"
    }
   ],
   "source": [
    "# this also selects a column\n",
    "leads_df['Specialization']"
   ]
  },
  {
   "cell_type": "code",
   "execution_count": 15,
   "metadata": {},
   "outputs": [
    {
     "data": {
      "text/html": [
       "<div>\n",
       "<style scoped>\n",
       "    .dataframe tbody tr th:only-of-type {\n",
       "        vertical-align: middle;\n",
       "    }\n",
       "\n",
       "    .dataframe tbody tr th {\n",
       "        vertical-align: top;\n",
       "    }\n",
       "\n",
       "    .dataframe thead th {\n",
       "        text-align: right;\n",
       "    }\n",
       "</style>\n",
       "<table border=\"1\" class=\"dataframe\">\n",
       "  <thead>\n",
       "    <tr style=\"text-align: right;\">\n",
       "      <th></th>\n",
       "      <th>Specialization</th>\n",
       "      <th>Converted</th>\n",
       "    </tr>\n",
       "  </thead>\n",
       "  <tbody>\n",
       "    <tr>\n",
       "      <th>0</th>\n",
       "      <td>Operations Management</td>\n",
       "      <td>0</td>\n",
       "    </tr>\n",
       "    <tr>\n",
       "      <th>1</th>\n",
       "      <td>Media and Advertising</td>\n",
       "      <td>1</td>\n",
       "    </tr>\n",
       "    <tr>\n",
       "      <th>2</th>\n",
       "      <td>Select</td>\n",
       "      <td>0</td>\n",
       "    </tr>\n",
       "    <tr>\n",
       "      <th>3</th>\n",
       "      <td>NaN</td>\n",
       "      <td>0</td>\n",
       "    </tr>\n",
       "    <tr>\n",
       "      <th>4</th>\n",
       "      <td>NaN</td>\n",
       "      <td>0</td>\n",
       "    </tr>\n",
       "    <tr>\n",
       "      <th>...</th>\n",
       "      <td>...</td>\n",
       "      <td>...</td>\n",
       "    </tr>\n",
       "    <tr>\n",
       "      <th>9235</th>\n",
       "      <td>Select</td>\n",
       "      <td>1</td>\n",
       "    </tr>\n",
       "    <tr>\n",
       "      <th>9236</th>\n",
       "      <td>Select</td>\n",
       "      <td>1</td>\n",
       "    </tr>\n",
       "    <tr>\n",
       "      <th>9237</th>\n",
       "      <td>Select</td>\n",
       "      <td>1</td>\n",
       "    </tr>\n",
       "    <tr>\n",
       "      <th>9238</th>\n",
       "      <td>Select</td>\n",
       "      <td>1</td>\n",
       "    </tr>\n",
       "    <tr>\n",
       "      <th>9239</th>\n",
       "      <td>Business Administration</td>\n",
       "      <td>0</td>\n",
       "    </tr>\n",
       "  </tbody>\n",
       "</table>\n",
       "<p>9240 rows × 2 columns</p>\n",
       "</div>"
      ],
      "text/plain": [
       "               Specialization  Converted\n",
       "0       Operations Management          0\n",
       "1       Media and Advertising          1\n",
       "2                      Select          0\n",
       "3                         NaN          0\n",
       "4                         NaN          0\n",
       "...                       ...        ...\n",
       "9235                   Select          1\n",
       "9236                   Select          1\n",
       "9237                   Select          1\n",
       "9238                   Select          1\n",
       "9239  Business Administration          0\n",
       "\n",
       "[9240 rows x 2 columns]"
      ]
     },
     "execution_count": 15,
     "metadata": {},
     "output_type": "execute_result"
    }
   ],
   "source": [
    "# We can also subset a dataframe to specific columns \n",
    "leads_df[['Specialization', 'Converted']]"
   ]
  },
  {
   "cell_type": "code",
   "execution_count": 16,
   "metadata": {},
   "outputs": [
    {
     "data": {
      "text/plain": [
       "0.3853896103896104"
      ]
     },
     "execution_count": 16,
     "metadata": {},
     "output_type": "execute_result"
    }
   ],
   "source": [
    "# We can do multiple functions in one command\n",
    "# let’s use the converted column, sum and shape functions to check existing conversion rate in data set\n",
    "sum(leads_df.Converted)/leads_df.shape[0]"
   ]
  },
  {
   "cell_type": "code",
   "execution_count": 17,
   "metadata": {},
   "outputs": [
    {
     "data": {
      "text/plain": [
       "0"
      ]
     },
     "execution_count": 17,
     "metadata": {},
     "output_type": "execute_result"
    }
   ],
   "source": [
    "# Let's use the sum and duplicated functions to do a very important step!\n",
    "# checking duplicates!!\n",
    "sum(leads_df.duplicated())"
   ]
  },
  {
   "cell_type": "code",
   "execution_count": 18,
   "metadata": {},
   "outputs": [
    {
     "data": {
      "text/plain": [
       "ProspectID           0\n",
       "LeadOrigin           0\n",
       "LeadSource           0\n",
       "TotalVisits          0\n",
       "TotalTime            0\n",
       "PageViews            0\n",
       "Specialization    1438\n",
       "Occupation           0\n",
       "Converted            0\n",
       "dtype: int64"
      ]
     },
     "execution_count": 18,
     "metadata": {},
     "output_type": "execute_result"
    }
   ],
   "source": [
    "# look at null/missing values \n",
    "leads_df.isnull().sum()"
   ]
  },
  {
   "cell_type": "code",
   "execution_count": 19,
   "metadata": {},
   "outputs": [
    {
     "data": {
      "text/plain": [
       "Select                               1942\n",
       "NaN                                  1438\n",
       "Finance Management                    976\n",
       "Human Resource Management             848\n",
       "Marketing Management                  838\n",
       "Operations Management                 503\n",
       "Business Administration               403\n",
       "IT Projects Management                366\n",
       "Supply Chain Management               349\n",
       "Banking, Investment And Insurance     338\n",
       "Media and Advertising                 203\n",
       "Travel and Tourism                    203\n",
       "International Business                178\n",
       "Healthcare Management                 159\n",
       "Hospitality Management                114\n",
       "E-COMMERCE                            112\n",
       "Retail Management                     100\n",
       "Rural and Agribusiness                 73\n",
       "E-Business                             57\n",
       "Services Excellence                    40\n",
       "Name: Specialization, dtype: int64"
      ]
     },
     "execution_count": 19,
     "metadata": {},
     "output_type": "execute_result"
    }
   ],
   "source": [
    "# Use value counts to look at the levels and counts of categories\n",
    "leads_df.Specialization.value_counts(dropna=False)"
   ]
  },
  {
   "cell_type": "markdown",
   "metadata": {},
   "source": [
    "## Part 4: Data Cleaning\n",
    "\n",
    "In the real world we often have imperfect or missing data that we need to 'clean' to get ready for data analysis. \n",
    "\n",
    "Using what we learnt above about the data, we will now apply some changes to the dataframe to fill in any gaps:"
   ]
  },
  {
   "cell_type": "code",
   "execution_count": 20,
   "metadata": {},
   "outputs": [],
   "source": [
    "# There are \"select\" values in columns, that doesn't make any sense for specialization (I know it's a Z not an S its American)\n",
    "# This is because customer did not select any option from the list and the form was built badly, hence it shows select.\n",
    "\n",
    "# Change 'Select' values to NaN.\n",
    "leads_df = leads_df.replace('Select', np.nan)"
   ]
  },
  {
   "cell_type": "code",
   "execution_count": 21,
   "metadata": {},
   "outputs": [
    {
     "data": {
      "text/plain": [
       "NaN                                  3380\n",
       "Finance Management                    976\n",
       "Human Resource Management             848\n",
       "Marketing Management                  838\n",
       "Operations Management                 503\n",
       "Business Administration               403\n",
       "IT Projects Management                366\n",
       "Supply Chain Management               349\n",
       "Banking, Investment And Insurance     338\n",
       "Travel and Tourism                    203\n",
       "Media and Advertising                 203\n",
       "International Business                178\n",
       "Healthcare Management                 159\n",
       "Hospitality Management                114\n",
       "E-COMMERCE                            112\n",
       "Retail Management                     100\n",
       "Rural and Agribusiness                 73\n",
       "E-Business                             57\n",
       "Services Excellence                    40\n",
       "Name: Specialization, dtype: int64"
      ]
     },
     "execution_count": 21,
     "metadata": {},
     "output_type": "execute_result"
    }
   ],
   "source": [
    "# lets look at the specialization column\n",
    "leads_df['Specialization'].value_counts(dropna=False)"
   ]
  },
  {
   "cell_type": "code",
   "execution_count": 22,
   "metadata": {},
   "outputs": [],
   "source": [
    "# It maybe the case that the lead has not entered any specialization if their option is not availabe on the list\n",
    "# We can make a category \"Others\" for missing values. \n",
    "leads_df['Specialization'] = leads_df['Specialization'].replace(np.nan, 'Other')"
   ]
  },
  {
   "cell_type": "markdown",
   "metadata": {},
   "source": [
    "## Part 5: Data Exploration\n",
    "\n",
    "Each row in our data is a single observation made up of a values in each column. \n",
    "\n",
    "Now we have cleaned the data we can start exploring each of the columns we have as **variables** in the dataset:\n",
    "\n",
    "- `Prospect ID` is the identifier variable for the data across each row\n",
    "\n",
    "- `converted`  is our **target** variable (also known as the response variable) i.e. the variable that we are interested in predicting. \n",
    "\n",
    "    - It is binary and the event either happens or it doesn't i.e. 0 or 1\n",
    "\n",
    "- We have a mix of 7 categorical and continuous variables we can as **predictor** variables (also called explanatory variable, feature, input variable or independent variable)\n",
    "\n",
    "We can explore the data to see if there are any correlations between the target and predictor variables.\n",
    "\n",
    "First for our categorical variables let's look at side by side bar plots:"
   ]
  },
  {
   "cell_type": "code",
   "execution_count": 23,
   "metadata": {},
   "outputs": [
    {
     "data": {
      "text/plain": [
       "(array([0, 1, 2, 3, 4]), <a list of 5 Text xticklabel objects>)"
      ]
     },
     "execution_count": 23,
     "metadata": {},
     "output_type": "execute_result"
    },
    {
     "data": {
      "image/png": "[encoded data removed]",
      "text/plain": [
       "<Figure size 1080x540 with 1 Axes>"
      ]
     },
     "metadata": {
      "needs_background": "light"
     },
     "output_type": "display_data"
    }
   ],
   "source": [
    "# lead Origin\n",
    "fig, axs = plt.subplots(figsize = (15,7.5))\n",
    "sns.countplot(x = \"LeadOrigin\", hue = \"Converted\", data = leads_df)\n",
    "xticks(rotation = 90)"
   ]
  },
  {
   "cell_type": "code",
   "execution_count": 24,
   "metadata": {},
   "outputs": [
    {
     "data": {
      "text/plain": [
       "(array([ 0,  1,  2,  3,  4,  5,  6,  7,  8,  9, 10]),\n",
       " <a list of 11 Text xticklabel objects>)"
      ]
     },
     "execution_count": 24,
     "metadata": {},
     "output_type": "execute_result"
    },
    {
     "data": {
      "image/png": "[encoded data removed]",
      "text/plain": [
       "<Figure size 1080x540 with 1 Axes>"
      ]
     },
     "metadata": {
      "needs_background": "light"
     },
     "output_type": "display_data"
    }
   ],
   "source": [
    "# lead source\n",
    "fig, axs = plt.subplots(figsize = (15,7.5))\n",
    "sns.countplot(x = \"LeadSource\", hue = \"Converted\", data = leads_df)\n",
    "xticks(rotation = 90)"
   ]
  },
  {
   "cell_type": "code",
   "execution_count": 25,
   "metadata": {},
   "outputs": [
    {
     "data": {
      "text/plain": [
       "(array([ 0,  1,  2,  3,  4,  5,  6,  7,  8,  9, 10, 11, 12, 13, 14, 15, 16,\n",
       "        17, 18]),\n",
       " <a list of 19 Text xticklabel objects>)"
      ]
     },
     "execution_count": 25,
     "metadata": {},
     "output_type": "execute_result"
    },
    {
     "data": {
      "image/png": "[encoded data removed]",
      "text/plain": [
       "<Figure size 1080x540 with 1 Axes>"
      ]
     },
     "metadata": {
      "needs_background": "light"
     },
     "output_type": "display_data"
    }
   ],
   "source": [
    "# Specialization\n",
    "fig, axs = plt.subplots(figsize = (15,7.5))\n",
    "sns.countplot(x = \"Specialization\", hue = \"Converted\", data = leads_df)\n",
    "xticks(rotation = 90)"
   ]
  },
  {
   "cell_type": "code",
   "execution_count": 26,
   "metadata": {},
   "outputs": [
    {
     "data": {
      "text/plain": [
       "(array([0, 1, 2, 3]), <a list of 4 Text xticklabel objects>)"
      ]
     },
     "execution_count": 26,
     "metadata": {},
     "output_type": "execute_result"
    },
    {
     "data": {
      "image/png": "[encoded data removed]",
      "text/plain": [
       "<Figure size 1080x540 with 1 Axes>"
      ]
     },
     "metadata": {
      "needs_background": "light"
     },
     "output_type": "display_data"
    }
   ],
   "source": [
    "# Occupation\n",
    "fig, axs = plt.subplots(figsize = (15,7.5))\n",
    "sns.countplot(x = \"Occupation\", hue = \"Converted\", data = leads_df)\n",
    "xticks(rotation = 90)"
   ]
  },
  {
   "cell_type": "markdown",
   "metadata": {},
   "source": [
    "For our continuous variables we can look at box plots"
   ]
  },
  {
   "cell_type": "code",
   "execution_count": 27,
   "metadata": {},
   "outputs": [
    {
     "data": {
      "text/plain": [
       "<matplotlib.axes._subplots.AxesSubplot at 0x28353ce13c8>"
      ]
     },
     "execution_count": 27,
     "metadata": {},
     "output_type": "execute_result"
    },
    {
     "data": {
      "image/png": "[encoded data removed]",
      "text/plain": [
       "<Figure size 432x288 with 1 Axes>"
      ]
     },
     "metadata": {
      "needs_background": "light"
     },
     "output_type": "display_data"
    }
   ],
   "source": [
    "# Total Visits\n",
    "sns.boxplot(y = 'TotalVisits', x = 'Converted', data = leads_df)"
   ]
  },
  {
   "cell_type": "code",
   "execution_count": 28,
   "metadata": {},
   "outputs": [
    {
     "data": {
      "text/plain": [
       "<matplotlib.axes._subplots.AxesSubplot at 0x28353faa0c8>"
      ]
     },
     "execution_count": 28,
     "metadata": {},
     "output_type": "execute_result"
    },
    {
     "data": {
      "image/png": "[encoded data removed]",
      "text/plain": [
       "<Figure size 432x288 with 1 Axes>"
      ]
     },
     "metadata": {
      "needs_background": "light"
     },
     "output_type": "display_data"
    }
   ],
   "source": [
    "# Total Time Spent on Website\n",
    "sns.boxplot(y = 'TotalTime', x = 'Converted', data = leads_df)"
   ]
  },
  {
   "cell_type": "code",
   "execution_count": 29,
   "metadata": {},
   "outputs": [
    {
     "data": {
      "text/plain": [
       "<matplotlib.axes._subplots.AxesSubplot at 0x2835402b088>"
      ]
     },
     "execution_count": 29,
     "metadata": {},
     "output_type": "execute_result"
    },
    {
     "data": {
      "image/png": "[encoded data removed]",
      "text/plain": [
       "<Figure size 432x288 with 1 Axes>"
      ]
     },
     "metadata": {
      "needs_background": "light"
     },
     "output_type": "display_data"
    }
   ],
   "source": [
    "# Page Views Per Visit\n",
    "sns.boxplot(y = 'PageViews', x = 'Converted', data = leads_df)"
   ]
  },
  {
   "cell_type": "markdown",
   "metadata": {},
   "source": [
    "What comments can you make about the different variables and their conversion rates? "
   ]
  },
  {
   "cell_type": "markdown",
   "metadata": {},
   "source": [
    "## Part 7: Model Building \n",
    "\n",
    "Now we have a reasonably good idea about what we want to predict and the relationships in each variable we can start to build a predictive model for our lead score. \n",
    "\n",
    "As we said above we have a binary target that we want to predict and a mix of 7 categorical and continuous variables we can use as predictor variables \n",
    "\n",
    "Because our target is binary (0 or 1)  - this is a **classification** problem, meaning that we want to predict whether a lead will convert or not. \n",
    "\n",
    "So we need to pick a model for classification. The first choice for many binary classification problems is a **logistic regression** model because of its simplicity and interpretability. \n",
    "\n",
    "There are other options like **random forests** or **neural networks** that can provide better accuracy, but depending on the data logistic regression can perform very well! "
   ]
  },
  {
   "cell_type": "markdown",
   "metadata": {},
   "source": [
    "### Training-testing split\n",
    "\n",
    "The next part of building a predictive model is to split the data into a **training** set and **testing** set. \n",
    "This lets us withhold data from the model when training so that we can test it's performance on data it has not seen before - just like it will be doing for our lead scoring in real life. \n",
    "\n",
    "- Train 80% \n",
    "- Test 20% \n",
    "\n",
    "We also need to transform the data to get it ready for modelling \n",
    "- Remove the ID label (not useful as a predictor)\n",
    "- Split out the target column\n",
    "- For categorical variables with multiple levels, create dummy features (one-hot encoded)"
   ]
  },
  {
   "cell_type": "code",
   "execution_count": 30,
   "metadata": {},
   "outputs": [],
   "source": [
    "# package for training models \n",
    "from sklearn import datasets, linear_model, metrics\n",
    "from sklearn.model_selection import train_test_split"
   ]
  },
  {
   "cell_type": "code",
   "execution_count": 31,
   "metadata": {},
   "outputs": [],
   "source": [
    "# vector to store conversion results\n",
    "y = leads_df['Converted']"
   ]
  },
  {
   "cell_type": "code",
   "execution_count": 32,
   "metadata": {},
   "outputs": [
    {
     "data": {
      "text/html": [
       "<div>\n",
       "<style scoped>\n",
       "    .dataframe tbody tr th:only-of-type {\n",
       "        vertical-align: middle;\n",
       "    }\n",
       "\n",
       "    .dataframe tbody tr th {\n",
       "        vertical-align: top;\n",
       "    }\n",
       "\n",
       "    .dataframe thead th {\n",
       "        text-align: right;\n",
       "    }\n",
       "</style>\n",
       "<table border=\"1\" class=\"dataframe\">\n",
       "  <thead>\n",
       "    <tr style=\"text-align: right;\">\n",
       "      <th></th>\n",
       "      <th>LeadOrigin_Landing Page Submission</th>\n",
       "      <th>LeadOrigin_Lead Add Form</th>\n",
       "      <th>LeadOrigin_Lead Import</th>\n",
       "      <th>LeadOrigin_Quick Add Form</th>\n",
       "      <th>LeadSource_Facebook</th>\n",
       "      <th>LeadSource_Google</th>\n",
       "      <th>LeadSource_Organic Search</th>\n",
       "      <th>LeadSource_Other</th>\n",
       "      <th>LeadSource_Reference</th>\n",
       "      <th>LeadSource_Referral Sites</th>\n",
       "      <th>...</th>\n",
       "      <th>Specialization_Operations Management</th>\n",
       "      <th>Specialization_Other</th>\n",
       "      <th>Specialization_Retail Management</th>\n",
       "      <th>Specialization_Rural and Agribusiness</th>\n",
       "      <th>Specialization_Services Excellence</th>\n",
       "      <th>Specialization_Supply Chain Management</th>\n",
       "      <th>Specialization_Travel and Tourism</th>\n",
       "      <th>Occupation_Student</th>\n",
       "      <th>Occupation_Unemployed</th>\n",
       "      <th>Occupation_Working Professional</th>\n",
       "    </tr>\n",
       "  </thead>\n",
       "  <tbody>\n",
       "    <tr>\n",
       "      <th>0</th>\n",
       "      <td>1</td>\n",
       "      <td>0</td>\n",
       "      <td>0</td>\n",
       "      <td>0</td>\n",
       "      <td>0</td>\n",
       "      <td>0</td>\n",
       "      <td>0</td>\n",
       "      <td>0</td>\n",
       "      <td>0</td>\n",
       "      <td>0</td>\n",
       "      <td>...</td>\n",
       "      <td>1</td>\n",
       "      <td>0</td>\n",
       "      <td>0</td>\n",
       "      <td>0</td>\n",
       "      <td>0</td>\n",
       "      <td>0</td>\n",
       "      <td>0</td>\n",
       "      <td>0</td>\n",
       "      <td>1</td>\n",
       "      <td>0</td>\n",
       "    </tr>\n",
       "    <tr>\n",
       "      <th>1</th>\n",
       "      <td>1</td>\n",
       "      <td>0</td>\n",
       "      <td>0</td>\n",
       "      <td>0</td>\n",
       "      <td>0</td>\n",
       "      <td>0</td>\n",
       "      <td>0</td>\n",
       "      <td>0</td>\n",
       "      <td>0</td>\n",
       "      <td>0</td>\n",
       "      <td>...</td>\n",
       "      <td>0</td>\n",
       "      <td>0</td>\n",
       "      <td>0</td>\n",
       "      <td>0</td>\n",
       "      <td>0</td>\n",
       "      <td>0</td>\n",
       "      <td>0</td>\n",
       "      <td>0</td>\n",
       "      <td>1</td>\n",
       "      <td>0</td>\n",
       "    </tr>\n",
       "    <tr>\n",
       "      <th>2</th>\n",
       "      <td>0</td>\n",
       "      <td>0</td>\n",
       "      <td>0</td>\n",
       "      <td>0</td>\n",
       "      <td>0</td>\n",
       "      <td>0</td>\n",
       "      <td>0</td>\n",
       "      <td>0</td>\n",
       "      <td>0</td>\n",
       "      <td>0</td>\n",
       "      <td>...</td>\n",
       "      <td>0</td>\n",
       "      <td>1</td>\n",
       "      <td>0</td>\n",
       "      <td>0</td>\n",
       "      <td>0</td>\n",
       "      <td>0</td>\n",
       "      <td>0</td>\n",
       "      <td>0</td>\n",
       "      <td>1</td>\n",
       "      <td>0</td>\n",
       "    </tr>\n",
       "    <tr>\n",
       "      <th>3</th>\n",
       "      <td>0</td>\n",
       "      <td>0</td>\n",
       "      <td>0</td>\n",
       "      <td>0</td>\n",
       "      <td>0</td>\n",
       "      <td>0</td>\n",
       "      <td>0</td>\n",
       "      <td>0</td>\n",
       "      <td>0</td>\n",
       "      <td>0</td>\n",
       "      <td>...</td>\n",
       "      <td>0</td>\n",
       "      <td>1</td>\n",
       "      <td>0</td>\n",
       "      <td>0</td>\n",
       "      <td>0</td>\n",
       "      <td>0</td>\n",
       "      <td>0</td>\n",
       "      <td>0</td>\n",
       "      <td>0</td>\n",
       "      <td>0</td>\n",
       "    </tr>\n",
       "    <tr>\n",
       "      <th>4</th>\n",
       "      <td>0</td>\n",
       "      <td>0</td>\n",
       "      <td>0</td>\n",
       "      <td>0</td>\n",
       "      <td>0</td>\n",
       "      <td>0</td>\n",
       "      <td>0</td>\n",
       "      <td>0</td>\n",
       "      <td>0</td>\n",
       "      <td>0</td>\n",
       "      <td>...</td>\n",
       "      <td>0</td>\n",
       "      <td>1</td>\n",
       "      <td>0</td>\n",
       "      <td>0</td>\n",
       "      <td>0</td>\n",
       "      <td>0</td>\n",
       "      <td>0</td>\n",
       "      <td>0</td>\n",
       "      <td>0</td>\n",
       "      <td>0</td>\n",
       "    </tr>\n",
       "  </tbody>\n",
       "</table>\n",
       "<p>5 rows × 35 columns</p>\n",
       "</div>"
      ],
      "text/plain": [
       "   LeadOrigin_Landing Page Submission  LeadOrigin_Lead Add Form  \\\n",
       "0                                   1                         0   \n",
       "1                                   1                         0   \n",
       "2                                   0                         0   \n",
       "3                                   0                         0   \n",
       "4                                   0                         0   \n",
       "\n",
       "   LeadOrigin_Lead Import  LeadOrigin_Quick Add Form  LeadSource_Facebook  \\\n",
       "0                       0                          0                    0   \n",
       "1                       0                          0                    0   \n",
       "2                       0                          0                    0   \n",
       "3                       0                          0                    0   \n",
       "4                       0                          0                    0   \n",
       "\n",
       "   LeadSource_Google  LeadSource_Organic Search  LeadSource_Other  \\\n",
       "0                  0                          0                 0   \n",
       "1                  0                          0                 0   \n",
       "2                  0                          0                 0   \n",
       "3                  0                          0                 0   \n",
       "4                  0                          0                 0   \n",
       "\n",
       "   LeadSource_Reference  LeadSource_Referral Sites  ...  \\\n",
       "0                     0                          0  ...   \n",
       "1                     0                          0  ...   \n",
       "2                     0                          0  ...   \n",
       "3                     0                          0  ...   \n",
       "4                     0                          0  ...   \n",
       "\n",
       "   Specialization_Operations Management  Specialization_Other  \\\n",
       "0                                     1                     0   \n",
       "1                                     0                     0   \n",
       "2                                     0                     1   \n",
       "3                                     0                     1   \n",
       "4                                     0                     1   \n",
       "\n",
       "   Specialization_Retail Management  Specialization_Rural and Agribusiness  \\\n",
       "0                                 0                                      0   \n",
       "1                                 0                                      0   \n",
       "2                                 0                                      0   \n",
       "3                                 0                                      0   \n",
       "4                                 0                                      0   \n",
       "\n",
       "   Specialization_Services Excellence  Specialization_Supply Chain Management  \\\n",
       "0                                   0                                       0   \n",
       "1                                   0                                       0   \n",
       "2                                   0                                       0   \n",
       "3                                   0                                       0   \n",
       "4                                   0                                       0   \n",
       "\n",
       "   Specialization_Travel and Tourism  Occupation_Student  \\\n",
       "0                                  0                   0   \n",
       "1                                  0                   0   \n",
       "2                                  0                   0   \n",
       "3                                  0                   0   \n",
       "4                                  0                   0   \n",
       "\n",
       "   Occupation_Unemployed  Occupation_Working Professional  \n",
       "0                      1                                0  \n",
       "1                      1                                0  \n",
       "2                      1                                0  \n",
       "3                      0                                0  \n",
       "4                      0                                0  \n",
       "\n",
       "[5 rows x 35 columns]"
      ]
     },
     "execution_count": 32,
     "metadata": {},
     "output_type": "execute_result"
    }
   ],
   "source": [
    "# taking catagorical variables and creating dummy variables\n",
    "# here we have subsetted the dataframe to only the catagorical columns \n",
    "dummy1 = pd.get_dummies(leads_df[['LeadOrigin', 'LeadSource', 'Specialization', 'Occupation']], drop_first=True)\n",
    "dummy1.head()"
   ]
  },
  {
   "cell_type": "code",
   "execution_count": 33,
   "metadata": {},
   "outputs": [
    {
     "data": {
      "text/html": [
       "<div>\n",
       "<style scoped>\n",
       "    .dataframe tbody tr th:only-of-type {\n",
       "        vertical-align: middle;\n",
       "    }\n",
       "\n",
       "    .dataframe tbody tr th {\n",
       "        vertical-align: top;\n",
       "    }\n",
       "\n",
       "    .dataframe thead th {\n",
       "        text-align: right;\n",
       "    }\n",
       "</style>\n",
       "<table border=\"1\" class=\"dataframe\">\n",
       "  <thead>\n",
       "    <tr style=\"text-align: right;\">\n",
       "      <th></th>\n",
       "      <th>TotalVisits</th>\n",
       "      <th>TotalTime</th>\n",
       "      <th>PageViews</th>\n",
       "      <th>LeadOrigin_Landing Page Submission</th>\n",
       "      <th>LeadOrigin_Lead Add Form</th>\n",
       "      <th>LeadOrigin_Lead Import</th>\n",
       "      <th>LeadOrigin_Quick Add Form</th>\n",
       "      <th>LeadSource_Facebook</th>\n",
       "      <th>LeadSource_Google</th>\n",
       "      <th>LeadSource_Organic Search</th>\n",
       "      <th>...</th>\n",
       "      <th>Specialization_Operations Management</th>\n",
       "      <th>Specialization_Other</th>\n",
       "      <th>Specialization_Retail Management</th>\n",
       "      <th>Specialization_Rural and Agribusiness</th>\n",
       "      <th>Specialization_Services Excellence</th>\n",
       "      <th>Specialization_Supply Chain Management</th>\n",
       "      <th>Specialization_Travel and Tourism</th>\n",
       "      <th>Occupation_Student</th>\n",
       "      <th>Occupation_Unemployed</th>\n",
       "      <th>Occupation_Working Professional</th>\n",
       "    </tr>\n",
       "  </thead>\n",
       "  <tbody>\n",
       "    <tr>\n",
       "      <th>0</th>\n",
       "      <td>3</td>\n",
       "      <td>138</td>\n",
       "      <td>3.0</td>\n",
       "      <td>1</td>\n",
       "      <td>0</td>\n",
       "      <td>0</td>\n",
       "      <td>0</td>\n",
       "      <td>0</td>\n",
       "      <td>0</td>\n",
       "      <td>0</td>\n",
       "      <td>...</td>\n",
       "      <td>1</td>\n",
       "      <td>0</td>\n",
       "      <td>0</td>\n",
       "      <td>0</td>\n",
       "      <td>0</td>\n",
       "      <td>0</td>\n",
       "      <td>0</td>\n",
       "      <td>0</td>\n",
       "      <td>1</td>\n",
       "      <td>0</td>\n",
       "    </tr>\n",
       "    <tr>\n",
       "      <th>1</th>\n",
       "      <td>3</td>\n",
       "      <td>399</td>\n",
       "      <td>3.0</td>\n",
       "      <td>1</td>\n",
       "      <td>0</td>\n",
       "      <td>0</td>\n",
       "      <td>0</td>\n",
       "      <td>0</td>\n",
       "      <td>0</td>\n",
       "      <td>0</td>\n",
       "      <td>...</td>\n",
       "      <td>0</td>\n",
       "      <td>0</td>\n",
       "      <td>0</td>\n",
       "      <td>0</td>\n",
       "      <td>0</td>\n",
       "      <td>0</td>\n",
       "      <td>0</td>\n",
       "      <td>0</td>\n",
       "      <td>1</td>\n",
       "      <td>0</td>\n",
       "    </tr>\n",
       "    <tr>\n",
       "      <th>2</th>\n",
       "      <td>2</td>\n",
       "      <td>88</td>\n",
       "      <td>1.0</td>\n",
       "      <td>0</td>\n",
       "      <td>0</td>\n",
       "      <td>0</td>\n",
       "      <td>0</td>\n",
       "      <td>0</td>\n",
       "      <td>0</td>\n",
       "      <td>0</td>\n",
       "      <td>...</td>\n",
       "      <td>0</td>\n",
       "      <td>1</td>\n",
       "      <td>0</td>\n",
       "      <td>0</td>\n",
       "      <td>0</td>\n",
       "      <td>0</td>\n",
       "      <td>0</td>\n",
       "      <td>0</td>\n",
       "      <td>1</td>\n",
       "      <td>0</td>\n",
       "    </tr>\n",
       "    <tr>\n",
       "      <th>3</th>\n",
       "      <td>1</td>\n",
       "      <td>153</td>\n",
       "      <td>1.0</td>\n",
       "      <td>0</td>\n",
       "      <td>0</td>\n",
       "      <td>0</td>\n",
       "      <td>0</td>\n",
       "      <td>0</td>\n",
       "      <td>0</td>\n",
       "      <td>0</td>\n",
       "      <td>...</td>\n",
       "      <td>0</td>\n",
       "      <td>1</td>\n",
       "      <td>0</td>\n",
       "      <td>0</td>\n",
       "      <td>0</td>\n",
       "      <td>0</td>\n",
       "      <td>0</td>\n",
       "      <td>0</td>\n",
       "      <td>0</td>\n",
       "      <td>0</td>\n",
       "    </tr>\n",
       "    <tr>\n",
       "      <th>4</th>\n",
       "      <td>1</td>\n",
       "      <td>458</td>\n",
       "      <td>1.0</td>\n",
       "      <td>0</td>\n",
       "      <td>0</td>\n",
       "      <td>0</td>\n",
       "      <td>0</td>\n",
       "      <td>0</td>\n",
       "      <td>0</td>\n",
       "      <td>0</td>\n",
       "      <td>...</td>\n",
       "      <td>0</td>\n",
       "      <td>1</td>\n",
       "      <td>0</td>\n",
       "      <td>0</td>\n",
       "      <td>0</td>\n",
       "      <td>0</td>\n",
       "      <td>0</td>\n",
       "      <td>0</td>\n",
       "      <td>0</td>\n",
       "      <td>0</td>\n",
       "    </tr>\n",
       "  </tbody>\n",
       "</table>\n",
       "<p>5 rows × 38 columns</p>\n",
       "</div>"
      ],
      "text/plain": [
       "   TotalVisits  TotalTime  PageViews  LeadOrigin_Landing Page Submission  \\\n",
       "0            3        138        3.0                                   1   \n",
       "1            3        399        3.0                                   1   \n",
       "2            2         88        1.0                                   0   \n",
       "3            1        153        1.0                                   0   \n",
       "4            1        458        1.0                                   0   \n",
       "\n",
       "   LeadOrigin_Lead Add Form  LeadOrigin_Lead Import  \\\n",
       "0                         0                       0   \n",
       "1                         0                       0   \n",
       "2                         0                       0   \n",
       "3                         0                       0   \n",
       "4                         0                       0   \n",
       "\n",
       "   LeadOrigin_Quick Add Form  LeadSource_Facebook  LeadSource_Google  \\\n",
       "0                          0                    0                  0   \n",
       "1                          0                    0                  0   \n",
       "2                          0                    0                  0   \n",
       "3                          0                    0                  0   \n",
       "4                          0                    0                  0   \n",
       "\n",
       "   LeadSource_Organic Search  ...  Specialization_Operations Management  \\\n",
       "0                          0  ...                                     1   \n",
       "1                          0  ...                                     0   \n",
       "2                          0  ...                                     0   \n",
       "3                          0  ...                                     0   \n",
       "4                          0  ...                                     0   \n",
       "\n",
       "   Specialization_Other  Specialization_Retail Management  \\\n",
       "0                     0                                 0   \n",
       "1                     0                                 0   \n",
       "2                     1                                 0   \n",
       "3                     1                                 0   \n",
       "4                     1                                 0   \n",
       "\n",
       "   Specialization_Rural and Agribusiness  Specialization_Services Excellence  \\\n",
       "0                                      0                                   0   \n",
       "1                                      0                                   0   \n",
       "2                                      0                                   0   \n",
       "3                                      0                                   0   \n",
       "4                                      0                                   0   \n",
       "\n",
       "   Specialization_Supply Chain Management  Specialization_Travel and Tourism  \\\n",
       "0                                       0                                  0   \n",
       "1                                       0                                  0   \n",
       "2                                       0                                  0   \n",
       "3                                       0                                  0   \n",
       "4                                       0                                  0   \n",
       "\n",
       "   Occupation_Student  Occupation_Unemployed  Occupation_Working Professional  \n",
       "0                   0                      1                                0  \n",
       "1                   0                      1                                0  \n",
       "2                   0                      1                                0  \n",
       "3                   0                      0                                0  \n",
       "4                   0                      0                                0  \n",
       "\n",
       "[5 rows x 38 columns]"
      ]
     },
     "execution_count": 33,
     "metadata": {},
     "output_type": "execute_result"
    }
   ],
   "source": [
    "# Adding the results of the dummy variables and remaining continous variables \n",
    "# in a dataframe with all the predictors \n",
    "X = pd.concat([leads_df[['TotalVisits', 'TotalTime', 'PageViews']], dummy1], axis=1)\n",
    "X.head()"
   ]
  },
  {
   "cell_type": "code",
   "execution_count": 34,
   "metadata": {},
   "outputs": [
    {
     "name": "stdout",
     "output_type": "stream",
     "text": [
      "(7392, 38) (7392,)\n",
      "(1848, 38) (1848,)\n"
     ]
    }
   ],
   "source": [
    "# create training and testing datasets\n",
    "X_train, X_test, y_train, y_test = train_test_split(X, y, test_size=0.2, random_state = 404)\n",
    "print(X_train.shape, y_train.shape)\n",
    "print(X_test.shape, y_test.shape)"
   ]
  },
  {
   "cell_type": "markdown",
   "metadata": {},
   "source": [
    "Now we are ready to 'fit' our logistic regresion model to the data"
   ]
  },
  {
   "cell_type": "code",
   "execution_count": 35,
   "metadata": {},
   "outputs": [],
   "source": [
    "# fit a model \n",
    "lm = linear_model.LogisticRegression()\n",
    "model = lm.fit(X_train, y_train)"
   ]
  },
  {
   "cell_type": "markdown",
   "metadata": {},
   "source": [
    "Easy as that! Two lines of code."
   ]
  },
  {
   "cell_type": "markdown",
   "metadata": {},
   "source": [
    "## Part 8: Model Evaluation\n",
    "\n",
    "Next is the important bit - how good is our model at predicting conversions?\n",
    "\n",
    "There are many metrics to evaluate a model and two ways we can get estimates \n",
    "- 'in-sample' evaluating on our training data \n",
    "- 'out of sample' evaluating on our testing data "
   ]
  },
  {
   "cell_type": "code",
   "execution_count": 36,
   "metadata": {},
   "outputs": [
    {
     "data": {
      "text/plain": [
       "0.7824675324675324"
      ]
     },
     "execution_count": 36,
     "metadata": {},
     "output_type": "execute_result"
    }
   ],
   "source": [
    "# in sample accuracy \n",
    "metrics.accuracy_score(y_train, model.predict(X_train))"
   ]
  },
  {
   "cell_type": "code",
   "execution_count": 37,
   "metadata": {},
   "outputs": [],
   "source": [
    "# Get predictions on testing dataset\n",
    "y_test_pred = model.predict(X_test)"
   ]
  },
  {
   "cell_type": "code",
   "execution_count": 38,
   "metadata": {},
   "outputs": [
    {
     "data": {
      "text/plain": [
       "0.7748917748917749"
      ]
     },
     "execution_count": 38,
     "metadata": {},
     "output_type": "execute_result"
    }
   ],
   "source": [
    "# Out of of sample accuracy \n",
    "# Let's check the overall accuracy for the test set \n",
    "metrics.accuracy_score(y_test, y_test_pred)"
   ]
  },
  {
   "cell_type": "markdown",
   "metadata": {},
   "source": [
    "The in-sample estimate always tends to be higher accuracy - which is why we need to evaluate our model on data it has not seen before to get a true estimate of real life performance! "
   ]
  },
  {
   "cell_type": "markdown",
   "metadata": {},
   "source": [
    "### Confusion Matrix \n",
    "\n",
    "For classification models we can use a tool called a **confusion matrix** to see how the model performed on classifying non-conversions compared to conversions "
   ]
  },
  {
   "cell_type": "code",
   "execution_count": 39,
   "metadata": {},
   "outputs": [
    {
     "data": {
      "text/plain": [
       "array([[948, 153],\n",
       "       [263, 484]], dtype=int64)"
      ]
     },
     "execution_count": 39,
     "metadata": {},
     "output_type": "execute_result"
    }
   ],
   "source": [
    "# Confusion matrix \n",
    "# imput is the actual conversions vs the predicted conversions for each lead in the test set\n",
    "confusion = metrics.confusion_matrix(y_test, y_test_pred)\n",
    "\n",
    "confusion"
   ]
  },
  {
   "cell_type": "markdown",
   "metadata": {},
   "source": [
    "One thing we are interested in is how many leads predicted as converters were actually converters and how many predicted as non-converters were actually non converters:"
   ]
  },
  {
   "cell_type": "code",
   "execution_count": 40,
   "metadata": {},
   "outputs": [
    {
     "name": "stdout",
     "output_type": "stream",
     "text": [
      "True positive 484\n",
      "True negative 948\n",
      "False Positives 153\n",
      "False Negatives 263\n"
     ]
    }
   ],
   "source": [
    "# some more things we can calculate from our confusion matrix\n",
    "TP = confusion[1,1] # true positive \n",
    "TN = confusion[0,0] # true negatives\n",
    "FP = confusion[0,1] # false positives\n",
    "FN = confusion[1,0] # false negatives\n",
    "\n",
    "print(\"True positive\", TP)\n",
    "print(\"True negative\", TN)\n",
    "print(\"False Positives\", FP)\n",
    "print(\"False Negatives\", FN)"
   ]
  },
  {
   "cell_type": "markdown",
   "metadata": {},
   "source": [
    "And the proportions of each:\n",
    "\n",
    "- **Sensitivity** (also called the true positive rate, the recall) measures the proportion of actual positives that are correctly identified as such.\n",
    "\n",
    "- **Specificity** (also called the true negative rate) measures the proportion of actual negatives that are correctly identified as such."
   ]
  },
  {
   "cell_type": "code",
   "execution_count": 41,
   "metadata": {},
   "outputs": [
    {
     "name": "stdout",
     "output_type": "stream",
     "text": [
      "Sensitivity 0.6479250334672021\n",
      "Specificity 0.8610354223433242\n"
     ]
    }
   ],
   "source": [
    "# Let's see the sensitivity of our logistic regression model\n",
    "se = TP / float(TP+FN)\n",
    "# Let us calculate specificity\n",
    "sp = TN / float(TN+FP)\n",
    "\n",
    "# Out of all those who were converters - what proportion did our model get right?\n",
    "print(\"Sensitivity\", se)\n",
    "# Out of all those who were non-converters - what proportion did our model get right?\n",
    "print(\"Specificity\", sp)"
   ]
  },
  {
   "cell_type": "markdown",
   "metadata": {},
   "source": [
    "The default for predictions is all p > 0.5 are classed as 1 (i.e. conversion) and all p < 0.5 are classed as 0 (non-conversion) \n",
    "\n",
    "Depending on what is worse \n",
    "- Mis-classifying a non-converter as a converter and calling them by mistake - low specificity\n",
    "- Mis-classifying a converter as a non-converter and and not calling them - low sensitivity \n",
    "\n",
    "We can tune the sensitivity and specificity of our model, by moving this threshold of 0.5 higher or lower. "
   ]
  },
  {
   "cell_type": "code",
   "execution_count": 42,
   "metadata": {},
   "outputs": [
    {
     "data": {
      "image/png": "[encoded data removed]",
      "text/plain": [
       "<Figure size 432x288 with 1 Axes>"
      ]
     },
     "metadata": {
      "needs_background": "light"
     },
     "output_type": "display_data"
    }
   ],
   "source": [
    "# roc curve \n",
    "y_pred_proba = model.predict_proba(X_test)[::,1]\n",
    "fpr, tpr, _ = metrics.roc_curve(y_test,  y_pred_proba)\n",
    "auc = metrics.roc_auc_score(y_test, y_pred_proba)\n",
    "plt.plot(fpr,tpr,label=\"data 1, auc=\"+str(auc))\n",
    "plt.legend(loc=4)\n",
    "plt.xlabel(\"False Positive Rate (1-Specificity)\")\n",
    "plt.ylabel(\"True Positive Rate (Sensitivity)\")\n",
    "plt.show()"
   ]
  },
  {
   "cell_type": "markdown",
   "metadata": {},
   "source": [
    "## Part 9: Interpreting Results & Lift\n",
    "\n",
    "The great thing about logistic regression is it gives us the predicted probabilities of that observation falling into that class (in our case conversion = 0 or conversion = 1). \n",
    "\n",
    "We can use this to rank our leads into deciles of the 'hottest' and compare the number of actual conversions in each decile.\n",
    "\n",
    "Then we can see how this compares to the existing method - or no method. "
   ]
  },
  {
   "cell_type": "code",
   "execution_count": 43,
   "metadata": {},
   "outputs": [
    {
     "data": {
      "text/html": [
       "<div>\n",
       "<style scoped>\n",
       "    .dataframe tbody tr th:only-of-type {\n",
       "        vertical-align: middle;\n",
       "    }\n",
       "\n",
       "    .dataframe tbody tr th {\n",
       "        vertical-align: top;\n",
       "    }\n",
       "\n",
       "    .dataframe thead th {\n",
       "        text-align: right;\n",
       "    }\n",
       "</style>\n",
       "<table border=\"1\" class=\"dataframe\">\n",
       "  <thead>\n",
       "    <tr style=\"text-align: right;\">\n",
       "      <th></th>\n",
       "      <th>actual</th>\n",
       "      <th>prob_c</th>\n",
       "    </tr>\n",
       "  </thead>\n",
       "  <tbody>\n",
       "    <tr>\n",
       "      <th>0</th>\n",
       "      <td>0</td>\n",
       "      <td>0.110873</td>\n",
       "    </tr>\n",
       "    <tr>\n",
       "      <th>1</th>\n",
       "      <td>1</td>\n",
       "      <td>0.283252</td>\n",
       "    </tr>\n",
       "    <tr>\n",
       "      <th>2</th>\n",
       "      <td>0</td>\n",
       "      <td>0.661073</td>\n",
       "    </tr>\n",
       "    <tr>\n",
       "      <th>3</th>\n",
       "      <td>0</td>\n",
       "      <td>0.265124</td>\n",
       "    </tr>\n",
       "    <tr>\n",
       "      <th>4</th>\n",
       "      <td>0</td>\n",
       "      <td>0.451459</td>\n",
       "    </tr>\n",
       "  </tbody>\n",
       "</table>\n",
       "</div>"
      ],
      "text/plain": [
       "   actual    prob_c\n",
       "0       0  0.110873\n",
       "1       1  0.283252\n",
       "2       0  0.661073\n",
       "3       0  0.265124\n",
       "4       0  0.451459"
      ]
     },
     "execution_count": 43,
     "metadata": {},
     "output_type": "execute_result"
    }
   ],
   "source": [
    "# create dataframe \n",
    "probs = pd.concat([y_test.reset_index(drop = True), pd.Series(y_pred_proba)], axis = 1)\n",
    "probs.columns = ['actual', 'prob_c']\n",
    "\n",
    "# look \n",
    "probs.head()"
   ]
  },
  {
   "cell_type": "code",
   "execution_count": 44,
   "metadata": {},
   "outputs": [],
   "source": [
    "# cut data into decilies \n",
    "# i.e. putting the leads into buckets of top 10%, 20%, ... based on how likely they are to convert\n",
    "probs['deciles'] = pd.qcut(probs.prob_c.rank(method='first'), 10)"
   ]
  },
  {
   "cell_type": "code",
   "execution_count": 45,
   "metadata": {},
   "outputs": [
    {
     "data": {
      "text/plain": [
       "(1663.3, 1848.0]    185\n",
       "(1478.6, 1663.3]    185\n",
       "(1293.9, 1478.6]    185\n",
       "(924.5, 1109.2]     185\n",
       "(739.8, 924.5]      185\n",
       "(370.4, 555.1]      185\n",
       "(185.7, 370.4]      185\n",
       "(0.999, 185.7]      185\n",
       "(1109.2, 1293.9]    184\n",
       "(555.1, 739.8]      184\n",
       "Name: deciles, dtype: int64"
      ]
     },
     "execution_count": 45,
     "metadata": {},
     "output_type": "execute_result"
    }
   ],
   "source": [
    "probs['deciles'].value_counts()"
   ]
  },
  {
   "cell_type": "code",
   "execution_count": 46,
   "metadata": {},
   "outputs": [],
   "source": [
    "# compare actual conversion in each decile\n",
    "# pandas groupby is a useful function for \n",
    "lift = probs.groupby(probs.deciles)['actual'].agg([\"sum\", \"count\"]).reset_index()\n",
    "\n",
    "# existing conversion rate in test data\n",
    "x = sum(lift['sum'])/sum(lift['count'])\n",
    "\n",
    "# calculate conversion probs\n",
    "lift['prob_con'] = lift['sum']/lift['count']\n",
    "\n",
    "# get cumulative counts and probabilities \n",
    "lift['sum_c'] = lift['sum'].iloc[::-1].cumsum()\n",
    "lift['prop_c'] = lift['sum_c']/731\n",
    "\n",
    "# old model - 40% conversion by random selection\n",
    "lift['old'] = lift['count']*x"
   ]
  },
  {
   "cell_type": "code",
   "execution_count": 47,
   "metadata": {},
   "outputs": [
    {
     "data": {
      "text/html": [
       "<div>\n",
       "<style scoped>\n",
       "    .dataframe tbody tr th:only-of-type {\n",
       "        vertical-align: middle;\n",
       "    }\n",
       "\n",
       "    .dataframe tbody tr th {\n",
       "        vertical-align: top;\n",
       "    }\n",
       "\n",
       "    .dataframe thead th {\n",
       "        text-align: right;\n",
       "    }\n",
       "</style>\n",
       "<table border=\"1\" class=\"dataframe\">\n",
       "  <thead>\n",
       "    <tr style=\"text-align: right;\">\n",
       "      <th></th>\n",
       "      <th>deciles</th>\n",
       "      <th>sum</th>\n",
       "      <th>count</th>\n",
       "      <th>prob_con</th>\n",
       "      <th>sum_c</th>\n",
       "      <th>prop_c</th>\n",
       "      <th>old</th>\n",
       "    </tr>\n",
       "  </thead>\n",
       "  <tbody>\n",
       "    <tr>\n",
       "      <th>0</th>\n",
       "      <td>(0.999, 185.7]</td>\n",
       "      <td>12</td>\n",
       "      <td>185</td>\n",
       "      <td>0.064865</td>\n",
       "      <td>747</td>\n",
       "      <td>1.021888</td>\n",
       "      <td>74.780844</td>\n",
       "    </tr>\n",
       "    <tr>\n",
       "      <th>1</th>\n",
       "      <td>(185.7, 370.4]</td>\n",
       "      <td>22</td>\n",
       "      <td>185</td>\n",
       "      <td>0.118919</td>\n",
       "      <td>735</td>\n",
       "      <td>1.005472</td>\n",
       "      <td>74.780844</td>\n",
       "    </tr>\n",
       "    <tr>\n",
       "      <th>2</th>\n",
       "      <td>(370.4, 555.1]</td>\n",
       "      <td>28</td>\n",
       "      <td>185</td>\n",
       "      <td>0.151351</td>\n",
       "      <td>713</td>\n",
       "      <td>0.975376</td>\n",
       "      <td>74.780844</td>\n",
       "    </tr>\n",
       "    <tr>\n",
       "      <th>3</th>\n",
       "      <td>(555.1, 739.8]</td>\n",
       "      <td>32</td>\n",
       "      <td>184</td>\n",
       "      <td>0.173913</td>\n",
       "      <td>685</td>\n",
       "      <td>0.937073</td>\n",
       "      <td>74.376623</td>\n",
       "    </tr>\n",
       "    <tr>\n",
       "      <th>4</th>\n",
       "      <td>(739.8, 924.5]</td>\n",
       "      <td>46</td>\n",
       "      <td>185</td>\n",
       "      <td>0.248649</td>\n",
       "      <td>653</td>\n",
       "      <td>0.893297</td>\n",
       "      <td>74.780844</td>\n",
       "    </tr>\n",
       "    <tr>\n",
       "      <th>5</th>\n",
       "      <td>(924.5, 1109.2]</td>\n",
       "      <td>64</td>\n",
       "      <td>185</td>\n",
       "      <td>0.345946</td>\n",
       "      <td>607</td>\n",
       "      <td>0.830369</td>\n",
       "      <td>74.780844</td>\n",
       "    </tr>\n",
       "    <tr>\n",
       "      <th>6</th>\n",
       "      <td>(1109.2, 1293.9]</td>\n",
       "      <td>110</td>\n",
       "      <td>184</td>\n",
       "      <td>0.597826</td>\n",
       "      <td>543</td>\n",
       "      <td>0.742818</td>\n",
       "      <td>74.376623</td>\n",
       "    </tr>\n",
       "    <tr>\n",
       "      <th>7</th>\n",
       "      <td>(1293.9, 1478.6]</td>\n",
       "      <td>118</td>\n",
       "      <td>185</td>\n",
       "      <td>0.637838</td>\n",
       "      <td>433</td>\n",
       "      <td>0.592339</td>\n",
       "      <td>74.780844</td>\n",
       "    </tr>\n",
       "    <tr>\n",
       "      <th>8</th>\n",
       "      <td>(1478.6, 1663.3]</td>\n",
       "      <td>144</td>\n",
       "      <td>185</td>\n",
       "      <td>0.778378</td>\n",
       "      <td>315</td>\n",
       "      <td>0.430917</td>\n",
       "      <td>74.780844</td>\n",
       "    </tr>\n",
       "    <tr>\n",
       "      <th>9</th>\n",
       "      <td>(1663.3, 1848.0]</td>\n",
       "      <td>171</td>\n",
       "      <td>185</td>\n",
       "      <td>0.924324</td>\n",
       "      <td>171</td>\n",
       "      <td>0.233926</td>\n",
       "      <td>74.780844</td>\n",
       "    </tr>\n",
       "  </tbody>\n",
       "</table>\n",
       "</div>"
      ],
      "text/plain": [
       "            deciles  sum  count  prob_con  sum_c    prop_c        old\n",
       "0    (0.999, 185.7]   12    185  0.064865    747  1.021888  74.780844\n",
       "1    (185.7, 370.4]   22    185  0.118919    735  1.005472  74.780844\n",
       "2    (370.4, 555.1]   28    185  0.151351    713  0.975376  74.780844\n",
       "3    (555.1, 739.8]   32    184  0.173913    685  0.937073  74.376623\n",
       "4    (739.8, 924.5]   46    185  0.248649    653  0.893297  74.780844\n",
       "5   (924.5, 1109.2]   64    185  0.345946    607  0.830369  74.780844\n",
       "6  (1109.2, 1293.9]  110    184  0.597826    543  0.742818  74.376623\n",
       "7  (1293.9, 1478.6]  118    185  0.637838    433  0.592339  74.780844\n",
       "8  (1478.6, 1663.3]  144    185  0.778378    315  0.430917  74.780844\n",
       "9  (1663.3, 1848.0]  171    185  0.924324    171  0.233926  74.780844"
      ]
     },
     "execution_count": 47,
     "metadata": {},
     "output_type": "execute_result"
    }
   ],
   "source": [
    "# dataframe with our metrics \n",
    "lift"
   ]
  },
  {
   "cell_type": "markdown",
   "metadata": {},
   "source": [
    "### Waterfall Plot\n",
    "\n",
    "This plot shows us for each decile (ordered 'hottest' to 'not hot' leads) how many conversions we would expect to get by contacting leads in each decile compared to when we just pick leads at random that have a 38% conversion rate. "
   ]
  },
  {
   "cell_type": "code",
   "execution_count": 48,
   "metadata": {},
   "outputs": [
    {
     "data": {
      "image/png": "[encoded data removed]",
      "text/plain": [
       "<Figure size 432x288 with 1 Axes>"
      ]
     },
     "metadata": {
      "needs_background": "light"
     },
     "output_type": "display_data"
    }
   ],
   "source": [
    "# Waterfall analysis plot \n",
    "ax = plt.gca()\n",
    "\n",
    "ax.bar(lift.index, lift['count'].iloc[::-1], color = 'lightgreen')\n",
    "ax.bar(lift.index, lift['sum'].iloc[::-1])\n",
    "ax.plot(lift.index, lift['old'].iloc[::-1], color = 'red')\n",
    "plt.xticks(lift.index, labels=lift.index+1)\n",
    "plt.title(\"Waterfall Analysis\")\n",
    "plt.xlabel(\"Deciles\")\n",
    "plt.ylabel(\"Conversions\")\n",
    "\n",
    "plt.show()"
   ]
  },
  {
   "cell_type": "markdown",
   "metadata": {},
   "source": [
    "We can see that our model puts our more likely converters in the top deciles. This means that the sales team has a way of prioritising leads\n",
    "1. Top 10% of leads are 98% likely to convert so they should always be at the top of the queue \n",
    "2. Middle % of leads might still convert but less of a priority \n",
    "3. Bottom 30% of leads are very unlikely to convert - don't waste time and resource here! Ignore them! \n",
    "\n",
    "*Next idea - can you work out those in the top decile who might convert on without even needing a sales call? - AB testing* "
   ]
  },
  {
   "cell_type": "markdown",
   "metadata": {},
   "source": [
    "### Lift plot\n",
    "\n",
    "Here we compare the cumulative gains in converted customers we get from our model compared to what we get by calling leads randomly. "
   ]
  },
  {
   "cell_type": "code",
   "execution_count": 49,
   "metadata": {},
   "outputs": [
    {
     "data": {
      "image/png": "[encoded data removed]",
      "text/plain": [
       "<Figure size 432x288 with 1 Axes>"
      ]
     },
     "metadata": {
      "needs_background": "light"
     },
     "output_type": "display_data"
    }
   ],
   "source": [
    "# Lift plot\n",
    "ax = plt.gca()\n",
    "\n",
    "d = np.linspace(0.1,1,10).round(1)\n",
    "\n",
    "ax.plot(lift.index, lift['prop_c'].iloc[::-1]*100, marker='o')\n",
    "ax.plot(lift.index, d*100, color = 'red', marker='o')\n",
    "plt.xticks(lift.index, labels=d*100)\n",
    "plt.title(\"Lift Chart\")\n",
    "plt.xlabel(\"% of Leads\")\n",
    "plt.ylabel(\"% of Conversions\")\n",
    "\n",
    "plt.show()"
   ]
  },
  {
   "cell_type": "markdown",
   "metadata": {},
   "source": [
    "This chart shows us that by contacting just the top 10% of leads we actually capture 24% of all conversions. \n",
    "\n",
    "This is compared to having no model where we will only get 10% of all conversions for every 10% of leads we contact. \n",
    "\n",
    "We only need to contact the top 70% leads from our model to capture 95% of all conversions. \n",
    "\n",
    "This model shows we can convert more leads without making more calls! We just have to call the right people in the right order!"
   ]
  },
  {
   "cell_type": "markdown",
   "metadata": {},
   "source": [
    "# Part 10: Next steps\n",
    "\n",
    "You could try improve model accuracy by:\n",
    "- Try a different model\n",
    "- Transform variables\n",
    "- Variable selection\n",
    "- Tune hyperparameters \n",
    "- Adding new data \n",
    "\n",
    "Model building is an iterative process until you reach the level of accuracy required "
   ]
  }
 ],
 "metadata": {
  "kernelspec": {
   "display_name": "Python 3",
   "language": "python",
   "name": "python3"
  },
  "language_info": {
   "codemirror_mode": {
    "name": "ipython",
    "version": 3
   },
   "file_extension": ".py",
   "mimetype": "text/x-python",
   "name": "python",
   "nbconvert_exporter": "python",
   "pygments_lexer": "ipython3",
   "version": "3.7.6"
  }
 },
 "nbformat": 4,
 "nbformat_minor": 4
}
